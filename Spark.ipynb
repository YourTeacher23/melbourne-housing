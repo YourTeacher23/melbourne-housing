{
 "cells": [
  {
   "cell_type": "code",
   "execution_count": 1,
   "id": "intermediate-better",
   "metadata": {},
   "outputs": [
    {
     "data": {
      "text/html": [
       "<div>\n",
       "<style scoped>\n",
       "    .dataframe tbody tr th:only-of-type {\n",
       "        vertical-align: middle;\n",
       "    }\n",
       "\n",
       "    .dataframe tbody tr th {\n",
       "        vertical-align: top;\n",
       "    }\n",
       "\n",
       "    .dataframe thead th {\n",
       "        text-align: right;\n",
       "    }\n",
       "</style>\n",
       "<table border=\"1\" class=\"dataframe\">\n",
       "  <thead>\n",
       "    <tr style=\"text-align: right;\">\n",
       "      <th></th>\n",
       "      <th>Suburb</th>\n",
       "      <th>Address</th>\n",
       "      <th>Rooms</th>\n",
       "      <th>Type</th>\n",
       "      <th>Price</th>\n",
       "      <th>Method</th>\n",
       "      <th>SellerG</th>\n",
       "      <th>Date</th>\n",
       "      <th>Postcode</th>\n",
       "      <th>Regionname</th>\n",
       "      <th>Propertycount</th>\n",
       "      <th>Distance</th>\n",
       "      <th>CouncilArea</th>\n",
       "    </tr>\n",
       "  </thead>\n",
       "  <tbody>\n",
       "    <tr>\n",
       "      <th>0</th>\n",
       "      <td>Abbotsford</td>\n",
       "      <td>49 Lithgow St</td>\n",
       "      <td>3</td>\n",
       "      <td>h</td>\n",
       "      <td>1490000.0</td>\n",
       "      <td>S</td>\n",
       "      <td>Jellis</td>\n",
       "      <td>1/04/2017</td>\n",
       "      <td>3067</td>\n",
       "      <td>Northern Metropolitan</td>\n",
       "      <td>4019</td>\n",
       "      <td>3.0</td>\n",
       "      <td>Yarra City Council</td>\n",
       "    </tr>\n",
       "    <tr>\n",
       "      <th>1</th>\n",
       "      <td>Abbotsford</td>\n",
       "      <td>59A Turner St</td>\n",
       "      <td>3</td>\n",
       "      <td>h</td>\n",
       "      <td>1220000.0</td>\n",
       "      <td>S</td>\n",
       "      <td>Marshall</td>\n",
       "      <td>1/04/2017</td>\n",
       "      <td>3067</td>\n",
       "      <td>Northern Metropolitan</td>\n",
       "      <td>4019</td>\n",
       "      <td>3.0</td>\n",
       "      <td>Yarra City Council</td>\n",
       "    </tr>\n",
       "    <tr>\n",
       "      <th>2</th>\n",
       "      <td>Abbotsford</td>\n",
       "      <td>119B Yarra St</td>\n",
       "      <td>3</td>\n",
       "      <td>h</td>\n",
       "      <td>1420000.0</td>\n",
       "      <td>S</td>\n",
       "      <td>Nelson</td>\n",
       "      <td>1/04/2017</td>\n",
       "      <td>3067</td>\n",
       "      <td>Northern Metropolitan</td>\n",
       "      <td>4019</td>\n",
       "      <td>3.0</td>\n",
       "      <td>Yarra City Council</td>\n",
       "    </tr>\n",
       "    <tr>\n",
       "      <th>3</th>\n",
       "      <td>Aberfeldie</td>\n",
       "      <td>68 Vida St</td>\n",
       "      <td>3</td>\n",
       "      <td>h</td>\n",
       "      <td>1515000.0</td>\n",
       "      <td>S</td>\n",
       "      <td>Barry</td>\n",
       "      <td>1/04/2017</td>\n",
       "      <td>3040</td>\n",
       "      <td>Western Metropolitan</td>\n",
       "      <td>1543</td>\n",
       "      <td>7.5</td>\n",
       "      <td>Moonee Valley City Council</td>\n",
       "    </tr>\n",
       "    <tr>\n",
       "      <th>4</th>\n",
       "      <td>Airport West</td>\n",
       "      <td>92 Clydesdale Rd</td>\n",
       "      <td>2</td>\n",
       "      <td>h</td>\n",
       "      <td>670000.0</td>\n",
       "      <td>S</td>\n",
       "      <td>Nelson</td>\n",
       "      <td>1/04/2017</td>\n",
       "      <td>3042</td>\n",
       "      <td>Western Metropolitan</td>\n",
       "      <td>3464</td>\n",
       "      <td>10.4</td>\n",
       "      <td>Moonee Valley City Council</td>\n",
       "    </tr>\n",
       "    <tr>\n",
       "      <th>...</th>\n",
       "      <td>...</td>\n",
       "      <td>...</td>\n",
       "      <td>...</td>\n",
       "      <td>...</td>\n",
       "      <td>...</td>\n",
       "      <td>...</td>\n",
       "      <td>...</td>\n",
       "      <td>...</td>\n",
       "      <td>...</td>\n",
       "      <td>...</td>\n",
       "      <td>...</td>\n",
       "      <td>...</td>\n",
       "      <td>...</td>\n",
       "    </tr>\n",
       "    <tr>\n",
       "      <th>63018</th>\n",
       "      <td>Roxburgh Park</td>\n",
       "      <td>3 Carr Pl</td>\n",
       "      <td>3</td>\n",
       "      <td>h</td>\n",
       "      <td>566000.0</td>\n",
       "      <td>S</td>\n",
       "      <td>Raine</td>\n",
       "      <td>31/03/2018</td>\n",
       "      <td>3064</td>\n",
       "      <td>Northern Metropolitan</td>\n",
       "      <td>5833</td>\n",
       "      <td>20.6</td>\n",
       "      <td>Hume City Council</td>\n",
       "    </tr>\n",
       "    <tr>\n",
       "      <th>63019</th>\n",
       "      <td>Roxburgh Park</td>\n",
       "      <td>9 Parker Ct</td>\n",
       "      <td>3</td>\n",
       "      <td>h</td>\n",
       "      <td>500000.0</td>\n",
       "      <td>S</td>\n",
       "      <td>Raine</td>\n",
       "      <td>31/03/2018</td>\n",
       "      <td>3064</td>\n",
       "      <td>Northern Metropolitan</td>\n",
       "      <td>5833</td>\n",
       "      <td>20.6</td>\n",
       "      <td>Hume City Council</td>\n",
       "    </tr>\n",
       "    <tr>\n",
       "      <th>63020</th>\n",
       "      <td>Roxburgh Park</td>\n",
       "      <td>5 Parkinson Wy</td>\n",
       "      <td>3</td>\n",
       "      <td>h</td>\n",
       "      <td>545000.0</td>\n",
       "      <td>S</td>\n",
       "      <td>Raine</td>\n",
       "      <td>31/03/2018</td>\n",
       "      <td>3064</td>\n",
       "      <td>Northern Metropolitan</td>\n",
       "      <td>5833</td>\n",
       "      <td>20.6</td>\n",
       "      <td>Hume City Council</td>\n",
       "    </tr>\n",
       "    <tr>\n",
       "      <th>63021</th>\n",
       "      <td>Thomastown</td>\n",
       "      <td>3/1 Travers St</td>\n",
       "      <td>3</td>\n",
       "      <td>u</td>\n",
       "      <td>NaN</td>\n",
       "      <td>PI</td>\n",
       "      <td>Barry</td>\n",
       "      <td>31/03/2018</td>\n",
       "      <td>3074</td>\n",
       "      <td>Northern Metropolitan</td>\n",
       "      <td>7955</td>\n",
       "      <td>15.3</td>\n",
       "      <td>Whittlesea City Council</td>\n",
       "    </tr>\n",
       "    <tr>\n",
       "      <th>63022</th>\n",
       "      <td>Williams Landing</td>\n",
       "      <td>1 Diadem Wy</td>\n",
       "      <td>4</td>\n",
       "      <td>h</td>\n",
       "      <td>NaN</td>\n",
       "      <td>SP</td>\n",
       "      <td>Aussie</td>\n",
       "      <td>31/03/2018</td>\n",
       "      <td>3027</td>\n",
       "      <td>Western Metropolitan</td>\n",
       "      <td>1999</td>\n",
       "      <td>17.6</td>\n",
       "      <td>Wyndham City Council</td>\n",
       "    </tr>\n",
       "  </tbody>\n",
       "</table>\n",
       "<p>63023 rows × 13 columns</p>\n",
       "</div>"
      ],
      "text/plain": [
       "                 Suburb           Address  Rooms Type      Price Method  \\\n",
       "0            Abbotsford     49 Lithgow St      3    h  1490000.0      S   \n",
       "1            Abbotsford     59A Turner St      3    h  1220000.0      S   \n",
       "2            Abbotsford     119B Yarra St      3    h  1420000.0      S   \n",
       "3            Aberfeldie        68 Vida St      3    h  1515000.0      S   \n",
       "4          Airport West  92 Clydesdale Rd      2    h   670000.0      S   \n",
       "...                 ...               ...    ...  ...        ...    ...   \n",
       "63018     Roxburgh Park         3 Carr Pl      3    h   566000.0      S   \n",
       "63019     Roxburgh Park       9 Parker Ct      3    h   500000.0      S   \n",
       "63020     Roxburgh Park    5 Parkinson Wy      3    h   545000.0      S   \n",
       "63021        Thomastown    3/1 Travers St      3    u        NaN     PI   \n",
       "63022  Williams Landing       1 Diadem Wy      4    h        NaN     SP   \n",
       "\n",
       "        SellerG        Date  Postcode             Regionname  Propertycount  \\\n",
       "0        Jellis   1/04/2017      3067  Northern Metropolitan           4019   \n",
       "1      Marshall   1/04/2017      3067  Northern Metropolitan           4019   \n",
       "2        Nelson   1/04/2017      3067  Northern Metropolitan           4019   \n",
       "3         Barry   1/04/2017      3040   Western Metropolitan           1543   \n",
       "4        Nelson   1/04/2017      3042   Western Metropolitan           3464   \n",
       "...         ...         ...       ...                    ...            ...   \n",
       "63018     Raine  31/03/2018      3064  Northern Metropolitan           5833   \n",
       "63019     Raine  31/03/2018      3064  Northern Metropolitan           5833   \n",
       "63020     Raine  31/03/2018      3064  Northern Metropolitan           5833   \n",
       "63021     Barry  31/03/2018      3074  Northern Metropolitan           7955   \n",
       "63022    Aussie  31/03/2018      3027   Western Metropolitan           1999   \n",
       "\n",
       "       Distance                 CouncilArea  \n",
       "0           3.0          Yarra City Council  \n",
       "1           3.0          Yarra City Council  \n",
       "2           3.0          Yarra City Council  \n",
       "3           7.5  Moonee Valley City Council  \n",
       "4          10.4  Moonee Valley City Council  \n",
       "...         ...                         ...  \n",
       "63018      20.6           Hume City Council  \n",
       "63019      20.6           Hume City Council  \n",
       "63020      20.6           Hume City Council  \n",
       "63021      15.3     Whittlesea City Council  \n",
       "63022      17.6        Wyndham City Council  \n",
       "\n",
       "[63023 rows x 13 columns]"
      ]
     },
     "execution_count": 1,
     "metadata": {},
     "output_type": "execute_result"
    }
   ],
   "source": [
    "import pyspark\n",
    "import pandas as pd\n",
    "pd.read_csv('melbourne_property_data/MELBOURNE_HOUSE_PRICES_LESS.csv')"
   ]
  },
  {
   "cell_type": "code",
   "execution_count": 2,
   "id": "featured-france",
   "metadata": {},
   "outputs": [],
   "source": [
    "from pyspark.sql import SparkSession"
   ]
  },
  {
   "cell_type": "code",
   "execution_count": 3,
   "id": "genetic-brass",
   "metadata": {},
   "outputs": [],
   "source": [
    "spark = SparkSession.builder.appName('SparkPractice').getOrCreate()"
   ]
  },
  {
   "cell_type": "code",
   "execution_count": 4,
   "id": "funny-chester",
   "metadata": {},
   "outputs": [
    {
     "data": {
      "text/html": [
       "\n",
       "            <div>\n",
       "                <p><b>SparkSession - in-memory</b></p>\n",
       "                \n",
       "        <div>\n",
       "            <p><b>SparkContext</b></p>\n",
       "\n",
       "            <p><a href=\"http://192.168.20.7:4040\">Spark UI</a></p>\n",
       "\n",
       "            <dl>\n",
       "              <dt>Version</dt>\n",
       "                <dd><code>v3.2.1</code></dd>\n",
       "              <dt>Master</dt>\n",
       "                <dd><code>local[*]</code></dd>\n",
       "              <dt>AppName</dt>\n",
       "                <dd><code>SparkPractice</code></dd>\n",
       "            </dl>\n",
       "        </div>\n",
       "        \n",
       "            </div>\n",
       "        "
      ],
      "text/plain": [
       "<pyspark.sql.session.SparkSession at 0x1b79b4f37f0>"
      ]
     },
     "execution_count": 4,
     "metadata": {},
     "output_type": "execute_result"
    }
   ],
   "source": [
    "spark"
   ]
  },
  {
   "cell_type": "code",
   "execution_count": 5,
   "id": "integral-addition",
   "metadata": {},
   "outputs": [],
   "source": [
    "spark_df = spark.read.csv('melbourne_property_data/MELBOURNE_HOUSE_PRICES_LESS.csv')"
   ]
  },
  {
   "cell_type": "code",
   "execution_count": 6,
   "id": "bulgarian-startup",
   "metadata": {},
   "outputs": [
    {
     "name": "stdout",
     "output_type": "stream",
     "text": [
      "+--------------+------------------+-----+----+-------+------+-------------+---------+--------+--------------------+-------------+--------+--------------------+\n",
      "|           _c0|               _c1|  _c2| _c3|    _c4|   _c5|          _c6|      _c7|     _c8|                 _c9|         _c10|    _c11|                _c12|\n",
      "+--------------+------------------+-----+----+-------+------+-------------+---------+--------+--------------------+-------------+--------+--------------------+\n",
      "|        Suburb|           Address|Rooms|Type|  Price|Method|      SellerG|     Date|Postcode|          Regionname|Propertycount|Distance|         CouncilArea|\n",
      "|    Abbotsford|     49 Lithgow St|    3|   h|1490000|     S|       Jellis|1/04/2017|    3067|Northern Metropol...|         4019|       3|  Yarra City Council|\n",
      "|    Abbotsford|     59A Turner St|    3|   h|1220000|     S|     Marshall|1/04/2017|    3067|Northern Metropol...|         4019|       3|  Yarra City Council|\n",
      "|    Abbotsford|     119B Yarra St|    3|   h|1420000|     S|       Nelson|1/04/2017|    3067|Northern Metropol...|         4019|       3|  Yarra City Council|\n",
      "|    Aberfeldie|        68 Vida St|    3|   h|1515000|     S|        Barry|1/04/2017|    3040|Western Metropolitan|         1543|     7.5|Moonee Valley Cit...|\n",
      "|  Airport West|  92 Clydesdale Rd|    2|   h| 670000|     S|       Nelson|1/04/2017|    3042|Western Metropolitan|         3464|    10.4|Moonee Valley Cit...|\n",
      "|  Airport West|      4/32 Earl St|    2|   t| 530000|     S|       Jellis|1/04/2017|    3042|Western Metropolitan|         3464|    10.4|Moonee Valley Cit...|\n",
      "|  Airport West|    3/74 Hawker St|    2|   u| 540000|     S|        Barry|1/04/2017|    3042|Western Metropolitan|         3464|    10.4|Moonee Valley Cit...|\n",
      "|  Airport West| 1/26 Highridge Cr|    3|   h| 715000|    SP|       Nelson|1/04/2017|    3042|Western Metropolitan|         3464|    10.4|Moonee Valley Cit...|\n",
      "|     Albanvale|     1 Jackson Cct|    6|   h|   null|    PI|hockingstuart|1/04/2017|    3021|Western Metropolitan|         1899|      14|Brimbank City Cou...|\n",
      "|   Albert Park|       18 Mills St|    3|   h|1925000|     S|       Cayzer|1/04/2017|    3206|Southern Metropol...|         3280|       3|Port Phillip City...|\n",
      "|        Albion|3/15 Drummartin St|    3|   u| 515000|     S|      Douglas|1/04/2017|    3020|Western Metropolitan|         2185|    10.5|Brimbank City Cou...|\n",
      "|        Albion|    3A Kororoit St|    4|   h| 717000|     S|        Bells|1/04/2017|    3020|Western Metropolitan|         2185|    10.5|Brimbank City Cou...|\n",
      "|    Alphington|      55 Fulham Rd|    2|   h|1675000|     S|        Miles|1/04/2017|    3078|Northern Metropol...|         2211|     5.7|Darebin City Council|\n",
      "|    Alphington|    41 Toolangi Rd|    4|   h|2008000|     S|       Jellis|1/04/2017|    3078|Northern Metropol...|         2211|     5.7|Darebin City Council|\n",
      "|        Altona|      9 Delmont Av|    2|   h| 860000|    SP|       Barlow|1/04/2017|    3018|Western Metropolitan|         5301|      11|Hobsons Bay City ...|\n",
      "|Altona Meadows|      57 Tatman Dr|    4|   h|   null|    SN|        Barry|1/04/2017|    3028|Western Metropolitan|         7630|    15.5|Hobsons Bay City ...|\n",
      "|  Altona North|     14 Seventh Av|    3|   h| 720000|     S|       Hunter|1/04/2017|    3025|Western Metropolitan|         5132|     9.4|Hobsons Bay City ...|\n",
      "|      Armadale|  2/23 Ashleigh Rd|    2|   u| 836000|     S|       Jellis|1/04/2017|    3143|Southern Metropol...|         4836|     6.3|Stonnington City ...|\n",
      "|      Armadale|      6A Auburn Gr|    2|   h|2110000|     S|       Jellis|1/04/2017|    3143|Southern Metropol...|         4836|     6.3|Stonnington City ...|\n",
      "+--------------+------------------+-----+----+-------+------+-------------+---------+--------+--------------------+-------------+--------+--------------------+\n",
      "only showing top 20 rows\n",
      "\n"
     ]
    }
   ],
   "source": [
    "spark_df.show()"
   ]
  },
  {
   "cell_type": "code",
   "execution_count": 7,
   "id": "phantom-campaign",
   "metadata": {},
   "outputs": [],
   "source": [
    "# Take Header\n",
    "df = spark.read.option('header', 'true').csv('melbourne_property_data/MELBOURNE_HOUSE_PRICES_LESS.csv')"
   ]
  },
  {
   "cell_type": "code",
   "execution_count": 8,
   "id": "gothic-newspaper",
   "metadata": {},
   "outputs": [
    {
     "name": "stdout",
     "output_type": "stream",
     "text": [
      "+------------+----------------+-----+----+-------+------+--------+---------+--------+--------------------+-------------+--------+--------------------+\n",
      "|      Suburb|         Address|Rooms|Type|  Price|Method| SellerG|     Date|Postcode|          Regionname|Propertycount|Distance|         CouncilArea|\n",
      "+------------+----------------+-----+----+-------+------+--------+---------+--------+--------------------+-------------+--------+--------------------+\n",
      "|  Abbotsford|   49 Lithgow St|    3|   h|1490000|     S|  Jellis|1/04/2017|    3067|Northern Metropol...|         4019|       3|  Yarra City Council|\n",
      "|  Abbotsford|   59A Turner St|    3|   h|1220000|     S|Marshall|1/04/2017|    3067|Northern Metropol...|         4019|       3|  Yarra City Council|\n",
      "|  Abbotsford|   119B Yarra St|    3|   h|1420000|     S|  Nelson|1/04/2017|    3067|Northern Metropol...|         4019|       3|  Yarra City Council|\n",
      "|  Aberfeldie|      68 Vida St|    3|   h|1515000|     S|   Barry|1/04/2017|    3040|Western Metropolitan|         1543|     7.5|Moonee Valley Cit...|\n",
      "|Airport West|92 Clydesdale Rd|    2|   h| 670000|     S|  Nelson|1/04/2017|    3042|Western Metropolitan|         3464|    10.4|Moonee Valley Cit...|\n",
      "+------------+----------------+-----+----+-------+------+--------+---------+--------+--------------------+-------------+--------+--------------------+\n",
      "only showing top 5 rows\n",
      "\n",
      "root\n",
      " |-- Suburb: string (nullable = true)\n",
      " |-- Address: string (nullable = true)\n",
      " |-- Rooms: string (nullable = true)\n",
      " |-- Type: string (nullable = true)\n",
      " |-- Price: string (nullable = true)\n",
      " |-- Method: string (nullable = true)\n",
      " |-- SellerG: string (nullable = true)\n",
      " |-- Date: string (nullable = true)\n",
      " |-- Postcode: string (nullable = true)\n",
      " |-- Regionname: string (nullable = true)\n",
      " |-- Propertycount: string (nullable = true)\n",
      " |-- Distance: string (nullable = true)\n",
      " |-- CouncilArea: string (nullable = true)\n",
      "\n"
     ]
    }
   ],
   "source": [
    "df.show(5)\n",
    "df.printSchema()     # Check datatype of each column\n",
    "#type(df)"
   ]
  },
  {
   "cell_type": "code",
   "execution_count": 27,
   "id": "optical-champagne",
   "metadata": {},
   "outputs": [
    {
     "name": "stdout",
     "output_type": "stream",
     "text": [
      "root\n",
      " |-- Suburb: string (nullable = true)\n",
      " |-- Address: string (nullable = true)\n",
      " |-- Rooms: integer (nullable = true)\n",
      " |-- Type: string (nullable = true)\n",
      " |-- Price: integer (nullable = true)\n",
      " |-- Method: string (nullable = true)\n",
      " |-- SellerG: string (nullable = true)\n",
      " |-- Date: string (nullable = true)\n",
      " |-- Postcode: integer (nullable = true)\n",
      " |-- Regionname: string (nullable = true)\n",
      " |-- Propertycount: integer (nullable = true)\n",
      " |-- Distance: double (nullable = true)\n",
      " |-- CouncilArea: string (nullable = true)\n",
      "\n"
     ]
    }
   ],
   "source": [
    "df = spark.read.csv('melbourne_property_data/MELBOURNE_HOUSE_PRICES_LESS.csv', header=True, inferSchema=True)\n",
    "# inferSchema=True automatically corrects the datatype in each column\n",
    "df.printSchema()"
   ]
  },
  {
   "cell_type": "code",
   "execution_count": 28,
   "id": "frequent-formation",
   "metadata": {},
   "outputs": [
    {
     "data": {
      "text/plain": [
       "['Suburb',\n",
       " 'Address',\n",
       " 'Rooms',\n",
       " 'Type',\n",
       " 'Price',\n",
       " 'Method',\n",
       " 'SellerG',\n",
       " 'Date',\n",
       " 'Postcode',\n",
       " 'Regionname',\n",
       " 'Propertycount',\n",
       " 'Distance',\n",
       " 'CouncilArea']"
      ]
     },
     "execution_count": 28,
     "metadata": {},
     "output_type": "execute_result"
    }
   ],
   "source": [
    "# Retrieve column names\n",
    "df.columns\n",
    "\n",
    "# df.head() gives data rows in lists instead of dataframe"
   ]
  },
  {
   "cell_type": "code",
   "execution_count": 29,
   "id": "dental-absolute",
   "metadata": {},
   "outputs": [
    {
     "name": "stdout",
     "output_type": "stream",
     "text": [
      "+--------------+-----+-------+--------+\n",
      "|        Suburb|Rooms|  Price|Distance|\n",
      "+--------------+-----+-------+--------+\n",
      "|    Abbotsford|    3|1490000|     3.0|\n",
      "|    Abbotsford|    3|1220000|     3.0|\n",
      "|    Abbotsford|    3|1420000|     3.0|\n",
      "|    Aberfeldie|    3|1515000|     7.5|\n",
      "|  Airport West|    2| 670000|    10.4|\n",
      "|  Airport West|    2| 530000|    10.4|\n",
      "|  Airport West|    2| 540000|    10.4|\n",
      "|  Airport West|    3| 715000|    10.4|\n",
      "|     Albanvale|    6|   null|    14.0|\n",
      "|   Albert Park|    3|1925000|     3.0|\n",
      "|        Albion|    3| 515000|    10.5|\n",
      "|        Albion|    4| 717000|    10.5|\n",
      "|    Alphington|    2|1675000|     5.7|\n",
      "|    Alphington|    4|2008000|     5.7|\n",
      "|        Altona|    2| 860000|    11.0|\n",
      "|Altona Meadows|    4|   null|    15.5|\n",
      "|  Altona North|    3| 720000|     9.4|\n",
      "|      Armadale|    2| 836000|     6.3|\n",
      "|      Armadale|    2|2110000|     6.3|\n",
      "|      Armadale|    3|1386000|     6.3|\n",
      "+--------------+-----+-------+--------+\n",
      "only showing top 20 rows\n",
      "\n"
     ]
    }
   ],
   "source": [
    "# Select columns, returns dataframe\n",
    "df.select('Suburb', 'Rooms', 'Price', 'Distance').show()"
   ]
  },
  {
   "cell_type": "code",
   "execution_count": 30,
   "id": "juvenile-financing",
   "metadata": {},
   "outputs": [
    {
     "name": "stdout",
     "output_type": "stream",
     "text": [
      "+-------+----------+-----------+-----------------+-----+-----------------+------+-----------+---------+------------------+--------------------+------------------+-----------------+--------------------+\n",
      "|summary|    Suburb|    Address|            Rooms| Type|            Price|Method|    SellerG|     Date|          Postcode|          Regionname|     Propertycount|         Distance|         CouncilArea|\n",
      "+-------+----------+-----------+-----------------+-----+-----------------+------+-----------+---------+------------------+--------------------+------------------+-----------------+--------------------+\n",
      "|  count|     63023|      63023|            63023|63023|            48433| 63023|      63023|    63023|             63023|               63023|             63023|            63023|               63023|\n",
      "|   mean|      null|       null|3.110594544848706| null|997898.2414882415|  null|       null|     null|3125.6738968313157|                null| 7617.728130999793|12.68482934801682|                null|\n",
      "| stddev|      null|       null|0.957551309273741| null|593498.9190372757|  null|       null|     null|125.62687746089323|                null|4424.4231673310605|7.592015369125753|                null|\n",
      "|    min|Abbotsford| 1 Abbot Ct|                1|    h|            85000|    PI|    @Realty|1/04/2017|              3000|Eastern Metropolitan|                39|              0.0|Banyule City Council|\n",
      "|    max|  viewbank|9c State St|               31|    u|         11200000|     W|voglwalpole|9/12/2017|              3980|    Western Victoria|             21650|             64.1|Yarra Ranges Shir...|\n",
      "+-------+----------+-----------+-----------------+-----+-----------------+------+-----------+---------+------------------+--------------------+------------------+-----------------+--------------------+\n",
      "\n"
     ]
    }
   ],
   "source": [
    "#df.describe()\n",
    "df.describe().show()"
   ]
  },
  {
   "cell_type": "code",
   "execution_count": 45,
   "id": "lovely-league",
   "metadata": {},
   "outputs": [
    {
     "name": "stdout",
     "output_type": "stream",
     "text": [
      "+-------+----------+-----------------+-----------------+-----------------+\n",
      "|summary|    Suburb|            Rooms|            Price|         Distance|\n",
      "+-------+----------+-----------------+-----------------+-----------------+\n",
      "|  count|     63023|            63023|            48433|            63023|\n",
      "|   mean|      null|3.110594544848706|997898.2414882415|12.68482934801682|\n",
      "| stddev|      null|0.957551309273741|593498.9190372757|7.592015369125753|\n",
      "|    min|Abbotsford|                1|            85000|              0.0|\n",
      "|    max|  viewbank|               31|         11200000|             64.1|\n",
      "+-------+----------+-----------------+-----------------+-----------------+\n",
      "\n"
     ]
    }
   ],
   "source": [
    "df.select('Suburb', 'Rooms', 'Price', 'Distance').describe().show()"
   ]
  },
  {
   "cell_type": "code",
   "execution_count": 50,
   "id": "furnished-oxygen",
   "metadata": {},
   "outputs": [],
   "source": [
    "### Adding columns to PySpark df\n",
    "\n",
    "# Adding empty column\n",
    "from pyspark.sql.functions import lit, StringType\n",
    "\n",
    "df = df.withColumn('SquareFootage', lit(None).cast(StringType()))\n",
    "\n",
    "# Adding column related to other columns\n",
    "df = df.withColumn('PricePerRoom', df['Price']/df['Rooms'])"
   ]
  },
  {
   "cell_type": "code",
   "execution_count": 51,
   "id": "arabic-front",
   "metadata": {},
   "outputs": [
    {
     "name": "stdout",
     "output_type": "stream",
     "text": [
      "+--------------+-----+-------+--------+-------------+------------------+\n",
      "|        Suburb|Rooms|  Price|Distance|SquareFootage|      PricePerRoom|\n",
      "+--------------+-----+-------+--------+-------------+------------------+\n",
      "|    Abbotsford|    3|1490000|     3.0|         null| 496666.6666666667|\n",
      "|    Abbotsford|    3|1220000|     3.0|         null| 406666.6666666667|\n",
      "|    Abbotsford|    3|1420000|     3.0|         null| 473333.3333333333|\n",
      "|    Aberfeldie|    3|1515000|     7.5|         null|          505000.0|\n",
      "|  Airport West|    2| 670000|    10.4|         null|          335000.0|\n",
      "|  Airport West|    2| 530000|    10.4|         null|          265000.0|\n",
      "|  Airport West|    2| 540000|    10.4|         null|          270000.0|\n",
      "|  Airport West|    3| 715000|    10.4|         null|238333.33333333334|\n",
      "|     Albanvale|    6|   null|    14.0|         null|              null|\n",
      "|   Albert Park|    3|1925000|     3.0|         null| 641666.6666666666|\n",
      "|        Albion|    3| 515000|    10.5|         null|171666.66666666666|\n",
      "|        Albion|    4| 717000|    10.5|         null|          179250.0|\n",
      "|    Alphington|    2|1675000|     5.7|         null|          837500.0|\n",
      "|    Alphington|    4|2008000|     5.7|         null|          502000.0|\n",
      "|        Altona|    2| 860000|    11.0|         null|          430000.0|\n",
      "|Altona Meadows|    4|   null|    15.5|         null|              null|\n",
      "|  Altona North|    3| 720000|     9.4|         null|          240000.0|\n",
      "|      Armadale|    2| 836000|     6.3|         null|          418000.0|\n",
      "|      Armadale|    2|2110000|     6.3|         null|         1055000.0|\n",
      "|      Armadale|    3|1386000|     6.3|         null|          462000.0|\n",
      "+--------------+-----+-------+--------+-------------+------------------+\n",
      "only showing top 20 rows\n",
      "\n"
     ]
    }
   ],
   "source": [
    "df.select('Suburb', 'Rooms', 'Price', 'Distance', 'SquareFootage', 'PricePerRoom').show()"
   ]
  },
  {
   "cell_type": "code",
   "execution_count": 54,
   "id": "olive-grill",
   "metadata": {},
   "outputs": [
    {
     "name": "stdout",
     "output_type": "stream",
     "text": [
      "+------------+----------------+-----+----+-------+------+--------+---------+--------+--------------------+-------------+--------+--------------------+-----------------+\n",
      "|      Suburb|         Address|Rooms|Type|  Price|Method| SellerG|     Date|Postcode|          Regionname|Propertycount|Distance|         CouncilArea|     PricePerRoom|\n",
      "+------------+----------------+-----+----+-------+------+--------+---------+--------+--------------------+-------------+--------+--------------------+-----------------+\n",
      "|  Abbotsford|   49 Lithgow St|    3|   h|1490000|     S|  Jellis|1/04/2017|    3067|Northern Metropol...|         4019|     3.0|  Yarra City Council|496666.6666666667|\n",
      "|  Abbotsford|   59A Turner St|    3|   h|1220000|     S|Marshall|1/04/2017|    3067|Northern Metropol...|         4019|     3.0|  Yarra City Council|406666.6666666667|\n",
      "|  Abbotsford|   119B Yarra St|    3|   h|1420000|     S|  Nelson|1/04/2017|    3067|Northern Metropol...|         4019|     3.0|  Yarra City Council|473333.3333333333|\n",
      "|  Aberfeldie|      68 Vida St|    3|   h|1515000|     S|   Barry|1/04/2017|    3040|Western Metropolitan|         1543|     7.5|Moonee Valley Cit...|         505000.0|\n",
      "|Airport West|92 Clydesdale Rd|    2|   h| 670000|     S|  Nelson|1/04/2017|    3042|Western Metropolitan|         3464|    10.4|Moonee Valley Cit...|         335000.0|\n",
      "+------------+----------------+-----+----+-------+------+--------+---------+--------+--------------------+-------------+--------+--------------------+-----------------+\n",
      "only showing top 5 rows\n",
      "\n"
     ]
    }
   ],
   "source": [
    "### Removing columns\n",
    "df = df.drop('SquareFootage')\n",
    "df.show(5)"
   ]
  },
  {
   "cell_type": "code",
   "execution_count": 56,
   "id": "empty-milton",
   "metadata": {},
   "outputs": [
    {
     "name": "stdout",
     "output_type": "stream",
     "text": [
      "+------------+----------------+-----+----+--------+------+--------+---------+--------+--------------------+-------------+--------+--------------------+-----------------+\n",
      "|      Suburb|         Address|Rooms|Type|NewPrice|Method| SellerG|     Date|Postcode|          Regionname|Propertycount|Distance|         CouncilArea|     PricePerRoom|\n",
      "+------------+----------------+-----+----+--------+------+--------+---------+--------+--------------------+-------------+--------+--------------------+-----------------+\n",
      "|  Abbotsford|   49 Lithgow St|    3|   h| 1490000|     S|  Jellis|1/04/2017|    3067|Northern Metropol...|         4019|     3.0|  Yarra City Council|496666.6666666667|\n",
      "|  Abbotsford|   59A Turner St|    3|   h| 1220000|     S|Marshall|1/04/2017|    3067|Northern Metropol...|         4019|     3.0|  Yarra City Council|406666.6666666667|\n",
      "|  Abbotsford|   119B Yarra St|    3|   h| 1420000|     S|  Nelson|1/04/2017|    3067|Northern Metropol...|         4019|     3.0|  Yarra City Council|473333.3333333333|\n",
      "|  Aberfeldie|      68 Vida St|    3|   h| 1515000|     S|   Barry|1/04/2017|    3040|Western Metropolitan|         1543|     7.5|Moonee Valley Cit...|         505000.0|\n",
      "|Airport West|92 Clydesdale Rd|    2|   h|  670000|     S|  Nelson|1/04/2017|    3042|Western Metropolitan|         3464|    10.4|Moonee Valley Cit...|         335000.0|\n",
      "+------------+----------------+-----+----+--------+------+--------+---------+--------+--------------------+-------------+--------+--------------------+-----------------+\n",
      "only showing top 5 rows\n",
      "\n"
     ]
    }
   ],
   "source": [
    "### Renaming columns\n",
    "df.withColumnRenamed('Price', 'NewPrice').show(5)"
   ]
  },
  {
   "cell_type": "code",
   "execution_count": null,
   "id": "incoming-reggae",
   "metadata": {},
   "outputs": [],
   "source": []
  },
  {
   "cell_type": "code",
   "execution_count": null,
   "id": "imported-details",
   "metadata": {},
   "outputs": [],
   "source": []
  }
 ],
 "metadata": {
  "kernelspec": {
   "display_name": "Python 3",
   "language": "python",
   "name": "python3"
  },
  "language_info": {
   "codemirror_mode": {
    "name": "ipython",
    "version": 3
   },
   "file_extension": ".py",
   "mimetype": "text/x-python",
   "name": "python",
   "nbconvert_exporter": "python",
   "pygments_lexer": "ipython3",
   "version": "3.9.2"
  }
 },
 "nbformat": 4,
 "nbformat_minor": 5
}
